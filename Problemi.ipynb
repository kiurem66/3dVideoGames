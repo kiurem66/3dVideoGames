{
 "cells": [
  {
   "attachments": {},
   "cell_type": "markdown",
   "metadata": {},
   "source": [
    "Tre punti $a, b, c$\n",
    "\n",
    "Incognita: $\\hat n$\n",
    "\n",
    "Soluzione $$\\vec n = (b - a) \\times (c - a)$$ $$\\hat n = \\vec n \\frac{1}{\\vert \\vec n \\vert}$$"
   ]
  }
 ],
 "metadata": {
  "language_info": {
   "name": "python"
  },
  "orig_nbformat": 4
 },
 "nbformat": 4,
 "nbformat_minor": 2
}
