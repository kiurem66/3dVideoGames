{
 "cells": [
  {
   "attachments": {},
   "cell_type": "markdown",
   "metadata": {},
   "source": [
    "# Introduzione\n",
    "\n",
    "I videogiochi 3d esistono praticamente dall'inizio della storia, un esempio è BattleZone.\n",
    "Tantissime tecnologie sono nate grazie ai videogiochi, ad esempio i pixel e la GPU che oggi è usata per IA.\n",
    "I videogiochi sono spesso stati una killer app per una tecnologia.\n",
    "\n",
    "Un motore di gioco deve gestire:\n",
    "- Grafica\n",
    "- Fisica\n",
    "- Intelligenza Aritficiale\n",
    "- Audio\n",
    "- Scripting\n",
    "- Networking\n",
    "- GUI e Interfacce\n",
    "- Asset Management\n",
    "\n",
    "Molte di queste cose sono comuni ad ogni gioco, per questo sono nati strumenti per coprire queste fasi,"
   ]
  },
  {
   "attachments": {},
   "cell_type": "markdown",
   "metadata": {},
   "source": [
    "Ruoli nello sviluppo di videogiochi\n",
    "- Designers\n",
    "- Technical staff: lavorano sul motore di goco e sui gli strumenti usati dagli artisti.\n",
    "- Digital Artists: creano gli assets ovvero 3dData, audio, video, 2d Art, text, etc(script, stats, levels).\n",
    "\n",
    "\n",
    "Procedural vs Baked: Generato automaticamente contro prefatto e memorizzato."
   ]
  },
  {
   "attachments": {},
   "cell_type": "markdown",
   "metadata": {},
   "source": [
    "Blit: spostare elementi dalla RAM alla VRAM per mostrarli a schermo\n",
    "\n"
   ]
  },
  {
   "attachments": {},
   "cell_type": "markdown",
   "metadata": {},
   "source": [
    "# The 3d part of game assets\n",
    "- 3d Models\n",
    "    - Per Vertex attrib\n",
    "    - Lods\n",
    "- Materials\n",
    "    - Lighting\n",
    "    - Textures\n",
    "        - RGB maps\n",
    "        - Narmal maps\n",
    "        - Alpha maps\n",
    "    - Shaders\n",
    "        - vertex\n",
    "        - fragments\n",
    "- Animations\n",
    "    - Blend shapes\n",
    "    - Skeletal animations\n",
    "    - Kinematic animations\n",
    "    - Geometry caches\n",
    "- Geometric proxies\n",
    "    - hit boxes\n",
    "    - bounding objects\n",
    "    - AI-meshes\n",
    "- Particle effects\n",
    "- Enviroments\n",
    "    - Scene graphs\n",
    "    - Skybox\n",
    "    - Terrains\n",
    "\n",
    "\n",
    "Proceduralità: quando la creazione di asset viene delegata ad un programma invece che ad un artista.\n",
    "Baking: La proceduralità è usata durante la creazione, semplifica la produzione e riduce il costo in prestazione durante l'esecuzione del gioco.\n",
    "Hard-wired/Hard-coded: Qualcosa che funziona a basso livello."
   ]
  }
 ],
 "metadata": {
  "kernelspec": {
   "display_name": "Python 3",
   "language": "python",
   "name": "python3"
  },
  "language_info": {
   "name": "python",
   "version": "3.10.9 (main, Dec 19 2022, 17:35:49) [GCC 12.2.0]"
  },
  "orig_nbformat": 4,
  "vscode": {
   "interpreter": {
    "hash": "e7370f93d1d0cde622a1f8e1c04877d8463912d04d973331ad4851f04de6915a"
   }
  }
 },
 "nbformat": 4,
 "nbformat_minor": 2
}
