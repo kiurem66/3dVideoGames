{
 "cells": [
  {
   "attachments": {},
   "cell_type": "markdown",
   "metadata": {},
   "source": [
    "# Trasformazioni\n",
    "Una funzione che riceve punti e/o vettori e restituisce punti e/o vettori per poterli inserire nello spazio del mondo.\n",
    "\n",
    "Trasformazione semplice (o: oggetto, w:mondo):\n",
    "$$f \\begin{pmatrix} \n",
    "x_o \\\\ \n",
    "y_o \\\\\n",
    "z_o \\\\\n",
    "\\end{pmatrix} = \\begin{pmatrix} \n",
    "x_w \\\\ \n",
    "y_w \\\\\n",
    "z_w \\\\\n",
    "\\end{pmatrix}$$\n",
    "\n",
    "Per fare questa cosa si trova una nuova origine e nuovi assi.  $o_w$ $\\vec a_x$ $\\vec a_y$ $\\vec a_z$ \n",
    "\n",
    "$$f \\begin{pmatrix} \n",
    "x_o \\\\ \n",
    "y_o \\\\\n",
    "z_o \\\\\n",
    "\\end{pmatrix} = o _w+ x_o \\cdot \\vec a_x + y_o \\cdot \\vec a_y + z_o \\cdot \\vec a_z$$\n",
    "\n",
    "Possiamo rappresentare la formula come una moltiplicazione matrice e vettore, aggiungendo un ultimo elemento alle colonne della matrice e al vettore (0 se vettore, 1 se punto)\n",
    "\n",
    "Trasformazione punto: \n",
    "$$\n",
    "\\begin{bmatrix}\n",
    "    x_ax & x_ay & x_az & x_o\\\\\n",
    "    y_ax & y_ay & y_az & y_o\\\\\n",
    "    z_ax & z_ay & z_az & z_o\\\\\n",
    "    0 & 0 & 0 & 1 \n",
    "\\end{bmatrix}\\begin{pmatrix} \n",
    "x_o \\\\ \n",
    "y_o \\\\\n",
    "z_o \\\\\n",
    "1\n",
    "\\end{pmatrix}= \\begin{pmatrix} \n",
    "x_w \\\\ \n",
    "y_w \\\\\n",
    "z_w \\\\\n",
    "1\n",
    "\\end{pmatrix}\n",
    "$$\n",
    "Trasformazione vettore\n",
    "$$\n",
    "\\begin{bmatrix}\n",
    "    x_ax & x_ay & x_az & x_o\\\\\n",
    "    y_ax & y_ay & y_az & y_o\\\\\n",
    "    z_ax & z_ay & z_az & z_o\\\\\n",
    "    0 & 0 & 0 & 1 \n",
    "\\end{bmatrix}\\begin{pmatrix} \n",
    "x_o \\\\ \n",
    "y_o \\\\\n",
    "z_o \\\\\n",
    "0\n",
    "\\end{pmatrix}= \\begin{pmatrix} \n",
    "x_w \\\\ \n",
    "y_w \\\\\n",
    "z_w \\\\\n",
    "0\n",
    "\\end{pmatrix}\n",
    "$$"
   ]
  }
 ],
 "metadata": {
  "kernelspec": {
   "display_name": "Python 3",
   "language": "python",
   "name": "python3"
  },
  "language_info": {
   "name": "python",
   "version": "3.10.9 (main, Dec 19 2022, 17:35:49) [GCC 12.2.0]"
  },
  "orig_nbformat": 4,
  "vscode": {
   "interpreter": {
    "hash": "e7370f93d1d0cde622a1f8e1c04877d8463912d04d973331ad4851f04de6915a"
   }
  }
 },
 "nbformat": 4,
 "nbformat_minor": 2
}
